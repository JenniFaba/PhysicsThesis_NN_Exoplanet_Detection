{
  "cells": [
    {
      "cell_type": "markdown",
      "source": [
        "Study of the latent space dimension"
      ],
      "metadata": {
        "id": "YZCKvWJx615R"
      }
    },
    {
      "cell_type": "code",
      "execution_count": null,
      "metadata": {
        "id": "EMUFyobq6bu6"
      },
      "outputs": [],
      "source": [
        "import tensorflow as tf\n",
        "import numpy as np\n",
        "import matplotlib.pyplot as plt\n",
        "import pandas as pd\n",
        "import random\n",
        "\n",
        "\n",
        "from sklearn.metrics import accuracy_score, precision_score, recall_score\n",
        "from tensorflow.keras import layers, losses\n",
        "from tensorflow.keras.models import Model\n"
      ]
    },
    {
      "cell_type": "code",
      "execution_count": null,
      "metadata": {
        "id": "t2g6AN-cT7wx"
      },
      "outputs": [],
      "source": [
        "#initial parameters\n",
        "t = np.arange(1, 101, 1)\n",
        "n = 20000 #number of samples\n",
        "number_train_data= int(n*0.9*0.7)\n",
        "number_val_data= int(n*0.9*0.3)\n",
        "number_test_data = int(n*0.1)"
      ]
    },
    {
      "cell_type": "code",
      "execution_count": null,
      "metadata": {
        "id": "-eYJreA1Uaf3"
      },
      "outputs": [],
      "source": [
        "#definition of empty matrices\n",
        "period = [0 for _ in range(n)]\n",
        "amplitud = [0 for _ in range(n)]\n",
        "phase = [0 for _ in range(n)]\n",
        "x = [[0 for _ in range(100)] for _ in range(n)] #n files 100 columnes\n",
        "x = np.array(x).astype(\"float32\")\n",
        "train_data = np.empty(shape=(number_train_data, 100), dtype='object')\n",
        "val_data = np.empty(shape=(number_val_data, 100), dtype='object')\n",
        "test_data = np.empty(shape=(number_test_data, 100), dtype='object')\n",
        "input_data=[]"
      ]
    },
    {
      "cell_type": "code",
      "source": [
        "#creation of input data\n",
        "for i in range(n):\n",
        "  amplitud[i] = np.random.uniform(1, 10)\n",
        "  period[i] = np.random.uniform(25,50)\n",
        "  phase[i] = np.random.uniform(0, 360)\n",
        "\n",
        "for i in range(n):\n",
        "  for j in range(100):\n",
        "    x[i,j] = amplitud[i] * np.sin(2. * np.pi * (t[j] / period[i] + phase[i] / 360.))\n",
        "\n",
        "for i in range(number_train_data):\n",
        "  for j in range(100):\n",
        "    train_data[i][j]=x[i,j]\n",
        "\n",
        "for i in range(number_train_data, number_train_data+number_val_data):\n",
        "  for j in range(100):\n",
        "    val_data[i-number_train_data][j]=x[i,j]\n",
        "\n",
        "for i in range(number_train_data+number_val_data, n):\n",
        "  for j in range(100):\n",
        "    test_data[i-number_train_data-number_val_data][j]=x[i,j]\n",
        "\n",
        "train_data = np.array(train_data).astype('float32')\n",
        "val_data = np.array(val_data).astype('float32')\n",
        "test_data = np.array(test_data).astype('float32')\n",
        "\n",
        "train_data = train_data[~np.isnan(train_data)]\n",
        "val_data = val_data[~np.isnan(val_data)]\n",
        "test_data = test_data[~np.isnan(test_data)]\n",
        "\n",
        "train_data = train_data.reshape((len(train_data)//100,100*1)).astype('float32')\n",
        "val_data = val_data.reshape((len(val_data)//100,100*1)).astype('float32')\n",
        "test_data = test_data.reshape((len(test_data)//100,100*1)).astype('float32')\n",
        "\n",
        "input_data=np.concatenate((train_data,val_data,test_data), axis=None).astype('float32')\n",
        "\n",
        "train_data = (train_data-np.min(input_data))/(np.max(input_data)-np.min(input_data))\n",
        "val_data = (val_data-np.min(input_data))/(np.max(input_data)-np.min(input_data))\n",
        "test_data = (test_data-np.min(input_data))/(np.max(input_data)-np.min(input_data))\n",
        "\n",
        "train_data = train_data.reshape((-1, 1, 100))\n",
        "test_data = test_data.reshape((-1, 1, 100))\n",
        "val_data = val_data.reshape((-1, 1, 100))\n",
        "\n",
        "train_data = tf.stack(train_data)\n",
        "val_data= tf.stack(val_data)\n",
        "test_data= tf.stack(test_data)"
      ],
      "metadata": {
        "id": "dlBq1CMZcqFh"
      },
      "execution_count": null,
      "outputs": []
    },
    {
      "cell_type": "code",
      "source": [
        "latent_dims = np.arange(1,20, 1)\n",
        "lossesvecval = []\n",
        "for k in range(len(latent_dims)):\n",
        "  class Autoencoder(Model):\n",
        "      def __init__(self, latent_dim):\n",
        "        super(Autoencoder, self).__init__()\n",
        "        self.latent_dim = latent_dims[k]\n",
        "        self.encoder = tf.keras.Sequential([\n",
        "          layers.Dense(100, activation='linear'),\n",
        "          layers.Dense(100, activation='relu'),\n",
        "          layers.Dense(80, activation='relu'),\n",
        "          layers.Dense(latent_dims[k], activation='relu'),\n",
        "          ])\n",
        "        self.decoder = tf.keras.Sequential([\n",
        "            layers.Dense(80, activation='relu'),\n",
        "            layers.Dense(100, activation='relu'),\n",
        "            layers.Dense(100, activation='linear'),\n",
        "          ])\n",
        "\n",
        "      def call(self, x):\n",
        "        encoded = self.encoder(x)\n",
        "        decoded = self.decoder(encoded)\n",
        "        return decoded\n",
        "\n",
        "  autoencoder = Autoencoder(latent_dim=latent_dims[k])\n",
        "  optimizer = tf.keras.optimizers.Adam(learning_rate=0.01)\n",
        "  early_stopping = tf.keras.callbacks.EarlyStopping(monitor='val_loss', patience=7, restore_best_weights=True)\n",
        "  autoencoder.compile(optimizer=optimizer, loss=losses.MeanSquaredError())\n",
        "  history = autoencoder.fit(train_data, train_data,\n",
        "                epochs=60,\n",
        "                shuffle=True,\n",
        "                batch_size=128,\n",
        "                validation_data=(val_data, val_data), callbacks=[early_stopping])\n",
        "\n",
        "  last_epoch_loss2 = history.history['val_loss'][-1]\n",
        "  lossesvecval.append(last_epoch_loss2)\n"
      ],
      "metadata": {
        "id": "x6HOttIV6-Lm"
      },
      "execution_count": null,
      "outputs": []
    },
    {
      "cell_type": "code",
      "source": [
        "plt.scatter(latent_dims, lossesvecval, color='red')\n",
        "plt.xlabel('Number of nodes')\n",
        "plt.ylabel('Val loss')"
      ],
      "metadata": {
        "colab": {
          "base_uri": "https://localhost:8080/",
          "height": 466
        },
        "id": "9EHS9n6NcTgt",
        "outputId": "ca2350e0-2d08-49b2-842f-9c5f70767fdd"
      },
      "execution_count": null,
      "outputs": [
        {
          "output_type": "execute_result",
          "data": {
            "text/plain": [
              "Text(0, 0.5, 'Val loss')"
            ]
          },
          "metadata": {},
          "execution_count": 101
        },
        {
          "output_type": "display_data",
          "data": {
            "text/plain": [
              "<Figure size 640x480 with 1 Axes>"
            ],
            "image/png": "[encoded data removed]"
          },
          "metadata": {}
        }
      ]
    },
    {
      "cell_type": "code",
      "source": [
        "lossesvecval"
      ],
      "metadata": {
        "colab": {
          "base_uri": "https://localhost:8080/"
        },
        "id": "yodsb_Gd6ePP",
        "outputId": "b220daf9-fdee-49a8-9ed7-3b2ac16566dd"
      },
      "execution_count": null,
      "outputs": [
        {
          "output_type": "execute_result",
          "data": {
            "text/plain": [
              "[0.045844968408346176,\n",
              " 0.005749780219048262,\n",
              " 0.0008989294292405248,\n",
              " 0.0007516896002925932,\n",
              " 7.442966307280585e-05,\n",
              " 0.0007667025256597032,\n",
              " 0.0006534150736325933,\n",
              " 0.0005556880226425932,\n",
              " 0.0006406403458325933,\n",
              " 6.332472070500585e-05,\n",
              " 0.0008574508158425932,\n",
              " 0.0008822663657258932,\n",
              " 5.6411525419695856e-05,\n",
              " 6.333114172720585e-05,\n",
              " 0.0006441942789773333,\n",
              " 0.0005305962116385933,\n",
              " 5.338264717404585e-05,\n",
              " 6.349392743027586e-05,\n",
              " 0.0005517063246391932]"
            ]
          },
          "metadata": {},
          "execution_count": 100
        }
      ]
    }
  ],
  "metadata": {
    "accelerator": "GPU",
    "colab": {
      "provenance": []
    },
    "kernelspec": {
      "display_name": "Python 3",
      "name": "python3"
    },
    "language_info": {
      "name": "python"
    }
  },
  "nbformat": 4,
  "nbformat_minor": 0
}